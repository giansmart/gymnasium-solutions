{
 "cells": [
  {
   "cell_type": "markdown",
   "source": [
    "## Solving the 'FrozenLake-v1' by using the Q-Learning approach\n",
    "This environment is fully documented in [Gymnasium Documentation](https://gymnasium.farama.org/environments/toy_text/frozen_lake/#frozen-lake)"
   ],
   "metadata": {}
  },
  {
   "cell_type": "markdown",
   "source": [
    "### Set Up"
   ],
   "metadata": {}
  },
  {
   "cell_type": "code",
   "execution_count": 2,
   "source": [
    "import numpy as np\n",
    "import matplotlib.pyplot as plt\n",
    "import gymnasium as gym\n"
   ],
   "outputs": [],
   "metadata": {}
  },
  {
   "cell_type": "markdown",
   "source": [
    "### Playing the Game in 'human' mode"
   ],
   "metadata": {}
  },
  {
   "cell_type": "code",
   "execution_count": 15,
   "source": [
    "env = gym.make('FrozenLake-v1', desc=None, map_name=\"4x4\", is_slippery=False, render_mode='human')\n",
    "env.reset()\n",
    "for _ in range(20):\n",
    "    action = env.action_space.sample()\n",
    "    observation, reward, terminated, truncated, info = env.step(action)\n",
    "    print(f\"obs: {observation}, rew: {reward}, term: {terminated}, trunc: {truncated}\")\n",
    "    if terminated or terminated:\n",
    "        #env.reset()\n",
    "        print('finished')\n",
    "        break\n",
    "    #time.sleep(0.5)\n",
    "env.close()"
   ],
   "outputs": [
    {
     "output_type": "stream",
     "name": "stdout",
     "text": [
      "obs: 0, rew: 0.0, term: False, trunc: False\n",
      "obs: 0, rew: 0.0, term: False, trunc: False\n",
      "obs: 4, rew: 0.0, term: False, trunc: False\n",
      "obs: 5, rew: 0.0, term: True, trunc: False\n",
      "finished\n"
     ]
    }
   ],
   "metadata": {}
  },
  {
   "cell_type": "code",
   "execution_count": 7,
   "source": [
    "# Rendering in RGB format\n",
    "# env = gym.make('FrozenLake-v1', desc=None, map_name=\"4x4\", is_slippery=False) "
   ],
   "outputs": [],
   "metadata": {}
  },
  {
   "cell_type": "code",
   "execution_count": 9,
   "source": [
    "action_size = env.action_space.n # possible actions\n",
    "state_size = env.observation_space.n # observation = state\n",
    "print(action_size)\n",
    "print(state_size)"
   ],
   "outputs": [
    {
     "output_type": "stream",
     "name": "stdout",
     "text": [
      "4\n",
      "16\n"
     ]
    }
   ],
   "metadata": {}
  },
  {
   "cell_type": "markdown",
   "source": [
    "### Building the Q-Table"
   ],
   "metadata": {}
  },
  {
   "cell_type": "code",
   "execution_count": 10,
   "source": [
    "# rows: States      columns: Actions\n",
    "q_table = np.zeros([state_size,action_size])\n",
    "q_table"
   ],
   "outputs": [
    {
     "output_type": "execute_result",
     "data": {
      "text/plain": [
       "array([[0., 0., 0., 0.],\n",
       "       [0., 0., 0., 0.],\n",
       "       [0., 0., 0., 0.],\n",
       "       [0., 0., 0., 0.],\n",
       "       [0., 0., 0., 0.],\n",
       "       [0., 0., 0., 0.],\n",
       "       [0., 0., 0., 0.],\n",
       "       [0., 0., 0., 0.],\n",
       "       [0., 0., 0., 0.],\n",
       "       [0., 0., 0., 0.],\n",
       "       [0., 0., 0., 0.],\n",
       "       [0., 0., 0., 0.],\n",
       "       [0., 0., 0., 0.],\n",
       "       [0., 0., 0., 0.],\n",
       "       [0., 0., 0., 0.],\n",
       "       [0., 0., 0., 0.]])"
      ]
     },
     "metadata": {},
     "execution_count": 10
    }
   ],
   "metadata": {}
  },
  {
   "cell_type": "markdown",
   "source": [
    "The Q-learning equation is (Also called Bellman Equation):\n",
    "\n",
    "\n",
    "`Q(s, a) ← Q(s, a) + α [r + γ max Q(s', a') - Q(s, a)]`\n",
    "\n",
    "Where:\n",
    "* `Q(s, a)` is the Q-value for a given state-action pair.\n",
    "* `s` and `a` represent the current state and action.\n",
    "* `r` is the immediate reward received for taking action a in state s.\n",
    "* `s` is the next state after taking action a.\n",
    "* `a` is the action taken in the next state s'.\n",
    "* `α` is the learning rate that determines how much the Q-value should be updated.\n",
    "* `γ` is the discount factor that determines the importance of future rewards."
   ],
   "metadata": {}
  },
  {
   "cell_type": "code",
   "execution_count": 11,
   "source": [
    "EPOCS = 2000 # how many times the agent play the game\n",
    "ALPHA = 0.8 # learning rate\n",
    "GAMMA = 0.95 # discount rate\n",
    "\n",
    "# explotation and exploration params\n",
    "epsilon = 1.0\n",
    "max_epsilon = 1.0\n",
    "min_epsilon = 0.01\n",
    "decay_rate = 0.001"
   ],
   "outputs": [],
   "metadata": {}
  },
  {
   "cell_type": "code",
   "execution_count": 12,
   "source": [
    "def epsilon_greedy_action_selection(epsilon, q_table, discrete_state):\n",
    "    random_number = np.random.random()\n",
    "    # Exploitation (choose the action that maximizes Q)\n",
    "    if random_number > epsilon:\n",
    "        state_row = q_table[discrete_state,:]\n",
    "        action = np.argmax(state_row)\n",
    "    # Exploration (choose a random action)\n",
    "    else:\n",
    "        action = env.action_space.sample()\n",
    "    \n",
    "    return action"
   ],
   "outputs": [],
   "metadata": {}
  },
  {
   "cell_type": "code",
   "execution_count": 13,
   "source": [
    "def compute_next_q_value(old_q_value, reward, next_optimal_q_value):\n",
    "    return old_q_value + ALPHA * (reward + GAMMA * next_optimal_q_value - old_q_value)"
   ],
   "outputs": [],
   "metadata": {}
  },
  {
   "cell_type": "code",
   "execution_count": 14,
   "source": [
    "def reduce_epsilon(epsilon, epoch):\n",
    "    return min_epsilon + (max_epsilon - min_epsilon) * np.exp(-decay_rate*epoch)"
   ],
   "outputs": [],
   "metadata": {}
  },
  {
   "cell_type": "code",
   "execution_count": null,
   "source": [
    "rewards = []\n",
    "log_interval = 1000\n",
    "\n",
    "env = gym.make('FrozenLake-v1', desc=None, map_name=\"4x4\", is_slippery=False) \n",
    "\n",
    "# Agent plays the game\n",
    "for epoch in range(EPOCS):\n",
    "    state, _ = env.reset()\n",
    "    terminated = False\n",
    "    total_rewards = 0\n",
    "\n",
    "    while not terminated:\n",
    "\n",
    "        # ACTION\n",
    "        action = epsilon_greedy_action_selection(epsilon, q_table, state)\n",
    "\n",
    "        # what will be the impact of the action?\n",
    "        new_state, reward, terminated, truncated, info = env.step(action)\n",
    "\n",
    "        # Old (current) Q VALUE Q(st, at)\n",
    "        old_q_value = q_table[state, action]\n",
    "\n",
    "        # Get next optimal Q VALUE (Q(s+1, at+1))\n",
    "        next_optimal_q_value = np.max(q_table[new_state,:])\n",
    "\n",
    "        # Compute next Q VALUE\n",
    "        next_q = compute_next_q_value(old_q_value, reward, next_optimal_q_value)\n",
    "\n"
   ],
   "outputs": [],
   "metadata": {}
  },
  {
   "cell_type": "code",
   "execution_count": 16,
   "source": [
    "np.random.random()"
   ],
   "outputs": [
    {
     "output_type": "execute_result",
     "data": {
      "text/plain": [
       "0.4329766478685064"
      ]
     },
     "metadata": {},
     "execution_count": 16
    }
   ],
   "metadata": {}
  },
  {
   "cell_type": "code",
   "execution_count": 17,
   "source": [
    "env.action_space.sample()"
   ],
   "outputs": [
    {
     "output_type": "execute_result",
     "data": {
      "text/plain": [
       "2"
      ]
     },
     "metadata": {},
     "execution_count": 17
    }
   ],
   "metadata": {}
  },
  {
   "cell_type": "code",
   "execution_count": 20,
   "source": [
    "env = gym.make('FrozenLake-v1', desc=None, map_name=\"4x4\", is_slippery=False) \n",
    "env.reset()\n",
    "env.step(2)"
   ],
   "outputs": [
    {
     "output_type": "execute_result",
     "data": {
      "text/plain": [
       "(1, 0.0, False, False, {'prob': 1.0})"
      ]
     },
     "metadata": {},
     "execution_count": 20
    }
   ],
   "metadata": {}
  },
  {
   "cell_type": "code",
   "execution_count": null,
   "source": [],
   "outputs": [],
   "metadata": {}
  }
 ],
 "metadata": {
  "orig_nbformat": 4,
  "language_info": {
   "name": "python",
   "version": "3.11.2",
   "mimetype": "text/x-python",
   "codemirror_mode": {
    "name": "ipython",
    "version": 3
   },
   "pygments_lexer": "ipython3",
   "nbconvert_exporter": "python",
   "file_extension": ".py"
  },
  "kernelspec": {
   "name": "python3",
   "display_name": "Python 3.11.2 64-bit ('rl-env': venv)"
  },
  "interpreter": {
   "hash": "31a89f98e54744fb9eb4f21d05f601f33e20f80b335e97efaae35ceaee0d65e1"
  }
 },
 "nbformat": 4,
 "nbformat_minor": 2
}