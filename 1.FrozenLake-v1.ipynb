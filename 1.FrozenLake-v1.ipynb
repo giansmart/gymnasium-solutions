{
 "cells": [
  {
   "cell_type": "markdown",
   "source": [
    "## Solving the 'FrozenLake-v1' by using the Q-Learning approach\n",
    "This environment is fully documented in [Gymnasium Documentation](https://gymnasium.farama.org/environments/toy_text/frozen_lake/#frozen-lake)"
   ],
   "metadata": {}
  },
  {
   "cell_type": "markdown",
   "source": [
    "### Set Up"
   ],
   "metadata": {}
  },
  {
   "cell_type": "code",
   "execution_count": 38,
   "source": [
    "import numpy as np\n",
    "import matplotlib.pyplot as plt\n",
    "import gymnasium as gym\n",
    "import time"
   ],
   "outputs": [],
   "metadata": {}
  },
  {
   "cell_type": "markdown",
   "source": [
    "### Playing the Game in 'human' mode"
   ],
   "metadata": {}
  },
  {
   "cell_type": "code",
   "execution_count": 44,
   "source": [
    "env = gym.make('FrozenLake-v1', desc=None, map_name=\"4x4\", is_slippery=False, render_mode='human')\n",
    "env.reset()\n",
    "for _ in range(20):\n",
    "    action = env.action_space.sample()\n",
    "    observation, reward, terminated, truncated, info = env.step(action)\n",
    "    print(f\"obs: {observation}, rew: {reward}, term: {terminated}, trunc: {truncated}\")\n",
    "    if terminated or terminated:\n",
    "        #env.reset()\n",
    "        message = \"'Yo win! :)'\" if reward > 0 else 'You lose! :('\n",
    "        print(message)\n",
    "        break\n",
    "    time.sleep(1)\n",
    "env.close()"
   ],
   "outputs": [
    {
     "output_type": "stream",
     "name": "stdout",
     "text": [
      "obs: 1, rew: 0.0, term: False, trunc: False\n",
      "obs: 1, rew: 0.0, term: False, trunc: False\n",
      "obs: 2, rew: 0.0, term: False, trunc: False\n",
      "obs: 2, rew: 0.0, term: False, trunc: False\n",
      "obs: 2, rew: 0.0, term: False, trunc: False\n",
      "obs: 6, rew: 0.0, term: False, trunc: False\n",
      "obs: 2, rew: 0.0, term: False, trunc: False\n",
      "obs: 2, rew: 0.0, term: False, trunc: False\n",
      "obs: 6, rew: 0.0, term: False, trunc: False\n",
      "obs: 5, rew: 0.0, term: True, trunc: False\n",
      "You lose! :(\n"
     ]
    }
   ],
   "metadata": {}
  },
  {
   "cell_type": "code",
   "execution_count": 25,
   "source": [
    "# Rendering in RGB format\n",
    "# env = gym.make('FrozenLake-v1', desc=None, map_name=\"4x4\", is_slippery=False) "
   ],
   "outputs": [],
   "metadata": {}
  },
  {
   "cell_type": "code",
   "execution_count": 26,
   "source": [
    "action_size = env.action_space.n # possible actions\n",
    "state_size = env.observation_space.n # observation = state\n",
    "print(action_size)\n",
    "print(state_size)"
   ],
   "outputs": [
    {
     "output_type": "stream",
     "name": "stdout",
     "text": [
      "4\n",
      "16\n"
     ]
    }
   ],
   "metadata": {}
  },
  {
   "cell_type": "markdown",
   "source": [
    "### Building the Q-Table"
   ],
   "metadata": {}
  },
  {
   "cell_type": "code",
   "execution_count": 27,
   "source": [
    "# rows: States      columns: Actions\n",
    "q_table = np.zeros([state_size,action_size])\n",
    "q_table"
   ],
   "outputs": [
    {
     "output_type": "execute_result",
     "data": {
      "text/plain": [
       "array([[0., 0., 0., 0.],\n",
       "       [0., 0., 0., 0.],\n",
       "       [0., 0., 0., 0.],\n",
       "       [0., 0., 0., 0.],\n",
       "       [0., 0., 0., 0.],\n",
       "       [0., 0., 0., 0.],\n",
       "       [0., 0., 0., 0.],\n",
       "       [0., 0., 0., 0.],\n",
       "       [0., 0., 0., 0.],\n",
       "       [0., 0., 0., 0.],\n",
       "       [0., 0., 0., 0.],\n",
       "       [0., 0., 0., 0.],\n",
       "       [0., 0., 0., 0.],\n",
       "       [0., 0., 0., 0.],\n",
       "       [0., 0., 0., 0.],\n",
       "       [0., 0., 0., 0.]])"
      ]
     },
     "metadata": {},
     "execution_count": 27
    }
   ],
   "metadata": {}
  },
  {
   "cell_type": "markdown",
   "source": [
    "The Q-learning equation is (Also called Bellman Equation):\n",
    "\n",
    "\n",
    "`Q(s, a) ← Q(s, a) + α [r + γ max Q(s', a') - Q(s, a)]`\n",
    "\n",
    "Where:\n",
    "* `Q(s, a)` is the Q-value for a given state-action pair.\n",
    "* `s` and `a` represent the current state and action.\n",
    "* `r` is the immediate reward received for taking action a in state s.\n",
    "* `s` is the next state after taking action a.\n",
    "* `a` is the action taken in the next state s'.\n",
    "* `α` is the learning rate that determines how much the Q-value should be updated.\n",
    "* `γ` is the discount factor that determines the importance of future rewards."
   ],
   "metadata": {}
  },
  {
   "cell_type": "code",
   "execution_count": 45,
   "source": [
    "EPOCS = 20_000 # how many times the agent play the game\n",
    "ALPHA = 0.8 # learning rate\n",
    "GAMMA = 0.95 # discount rate\n",
    "\n",
    "# explotation and exploration params\n",
    "epsilon = 1.0\n",
    "max_epsilon = 1.0\n",
    "min_epsilon = 0.01\n",
    "decay_rate = 0.001"
   ],
   "outputs": [],
   "metadata": {}
  },
  {
   "cell_type": "code",
   "execution_count": 29,
   "source": [
    "def epsilon_greedy_action_selection(epsilon, q_table, discrete_state):\n",
    "    random_number = np.random.random()\n",
    "    # Exploitation (choose the action that maximizes Q)\n",
    "    if random_number > epsilon:\n",
    "        state_row = q_table[discrete_state,:]\n",
    "        action = np.argmax(state_row)\n",
    "    # Exploration (choose a random action)\n",
    "    else:\n",
    "        action = env.action_space.sample()\n",
    "    \n",
    "    return action"
   ],
   "outputs": [],
   "metadata": {}
  },
  {
   "cell_type": "code",
   "execution_count": 30,
   "source": [
    "def compute_next_q_value(old_q_value, reward, next_optimal_q_value):\n",
    "    return old_q_value + ALPHA * (reward + GAMMA * next_optimal_q_value - old_q_value)"
   ],
   "outputs": [],
   "metadata": {}
  },
  {
   "cell_type": "code",
   "execution_count": 31,
   "source": [
    "def reduce_epsilon(epsilon, epoch):\n",
    "    return min_epsilon + (max_epsilon - min_epsilon) * np.exp(-decay_rate*epoch)"
   ],
   "outputs": [],
   "metadata": {}
  },
  {
   "cell_type": "code",
   "execution_count": 32,
   "source": [
    "rewards = []\n",
    "log_interval = 1000\n",
    "\n",
    "env = gym.make('FrozenLake-v1', desc=None, map_name=\"4x4\", is_slippery=False) \n",
    "\n",
    "# Agent plays the game\n",
    "for epoch in range(EPOCS):\n",
    "    state, _ = env.reset()\n",
    "    terminated = False\n",
    "    total_rewards = 0\n",
    "\n",
    "    while not terminated:\n",
    "\n",
    "        # ACTION\n",
    "        action = epsilon_greedy_action_selection(epsilon, q_table, state)\n",
    "\n",
    "        # what will be the impact of the action?\n",
    "        new_state, reward, terminated, truncated, info = env.step(action)\n",
    "\n",
    "        # Old (current) Q VALUE Q(st, at)\n",
    "        old_q_value = q_table[state, action]\n",
    "\n",
    "        # Get next optimal Q VALUE (Q(s+1, at+1))\n",
    "        next_optimal_q_value = np.max(q_table[new_state,:])\n",
    "\n",
    "        # Compute next Q VALUE\n",
    "        next_q = compute_next_q_value(old_q_value, reward, next_optimal_q_value)\n",
    "\n",
    "        # Update the Q-table\n",
    "        q_table[state, action] = next_q\n",
    "\n",
    "        # Track rewards\n",
    "        total_rewards = total_rewards + reward\n",
    "\n",
    "        # new state is now the state\n",
    "        state = new_state\n",
    "\n",
    "    # Agent finished a round of the game\n",
    "    # epoch += 1\n",
    "\n",
    "    epsilon = reduce_epsilon(epsilon, epoch)\n",
    "\n",
    "    rewards.append(total_rewards)\n",
    "\n",
    "    if epoch % log_interval == 0:\n",
    "        print(np.sum(rewards))\n",
    "\n",
    "env.close()"
   ],
   "outputs": [
    {
     "output_type": "stream",
     "name": "stdout",
     "text": [
      "0.0\n",
      "255.0\n",
      "1011.0\n",
      "1919.0\n",
      "2887.0\n",
      "3869.0\n",
      "4863.0\n",
      "5848.0\n",
      "6840.0\n",
      "7828.0\n",
      "8816.0\n",
      "9808.0\n",
      "10800.0\n",
      "11795.0\n",
      "12781.0\n",
      "13774.0\n",
      "14770.0\n",
      "15762.0\n",
      "16748.0\n",
      "17737.0\n"
     ]
    }
   ],
   "metadata": {}
  },
  {
   "cell_type": "code",
   "execution_count": 33,
   "source": [
    "np.random.random()"
   ],
   "outputs": [
    {
     "output_type": "execute_result",
     "data": {
      "text/plain": [
       "0.783995402771204"
      ]
     },
     "metadata": {},
     "execution_count": 33
    }
   ],
   "metadata": {}
  },
  {
   "cell_type": "code",
   "execution_count": 34,
   "source": [
    "env.action_space.sample()"
   ],
   "outputs": [
    {
     "output_type": "execute_result",
     "data": {
      "text/plain": [
       "3"
      ]
     },
     "metadata": {},
     "execution_count": 34
    }
   ],
   "metadata": {}
  },
  {
   "cell_type": "code",
   "execution_count": 35,
   "source": [
    "#env = gym.make('FrozenLake-v1', desc=None, map_name=\"4x4\", is_slippery=False) \n",
    "#env.reset()\n",
    "#env.step(2)"
   ],
   "outputs": [
    {
     "output_type": "execute_result",
     "data": {
      "text/plain": [
       "(1, 0.0, False, False, {'prob': 1.0})"
      ]
     },
     "metadata": {},
     "execution_count": 35
    }
   ],
   "metadata": {}
  },
  {
   "cell_type": "markdown",
   "source": [
    "The Q-Table updated is:"
   ],
   "metadata": {}
  },
  {
   "cell_type": "code",
   "execution_count": 36,
   "source": [
    "q_table"
   ],
   "outputs": [
    {
     "output_type": "execute_result",
     "data": {
      "text/plain": [
       "array([[0.73509189, 0.77378094, 0.77378094, 0.73509189],\n",
       "       [0.73509189, 0.        , 0.81450625, 0.77378094],\n",
       "       [0.77378094, 0.857375  , 0.77378094, 0.81450625],\n",
       "       [0.81450625, 0.        , 0.77378078, 0.77378094],\n",
       "       [0.77378094, 0.81450625, 0.        , 0.73509189],\n",
       "       [0.        , 0.        , 0.        , 0.        ],\n",
       "       [0.        , 0.9025    , 0.        , 0.81450625],\n",
       "       [0.        , 0.        , 0.        , 0.        ],\n",
       "       [0.81450625, 0.        , 0.857375  , 0.77378094],\n",
       "       [0.81450625, 0.9025    , 0.9025    , 0.        ],\n",
       "       [0.857375  , 0.95      , 0.        , 0.857375  ],\n",
       "       [0.        , 0.        , 0.        , 0.        ],\n",
       "       [0.        , 0.        , 0.        , 0.        ],\n",
       "       [0.        , 0.9025    , 0.95      , 0.857375  ],\n",
       "       [0.9025    , 0.95      , 1.        , 0.9025    ],\n",
       "       [0.        , 0.        , 0.        , 0.        ]])"
      ]
     },
     "metadata": {},
     "execution_count": 36
    }
   ],
   "metadata": {}
  },
  {
   "cell_type": "code",
   "execution_count": 42,
   "source": [
    "env = gym.make('FrozenLake-v1', desc=None, map_name=\"4x4\", is_slippery=False, render_mode='human')\n",
    "state, _ = env.reset()\n",
    "\n",
    "for _ in range(100):\n",
    "    action = np.argmax(q_table[state, :])\n",
    "    state, reward, terminated, truncated, info = env.step(action)\n",
    "    print(f\"obs: {new_state}, rew: {reward}, term: {terminated}, trunc: {truncated}\")\n",
    "    time.sleep(1)\n",
    "    if terminated:\n",
    "        message = \"'Yo win! :)'\" if reward > 0 else 'You lose! :('\n",
    "        print(message)\n",
    "        break\n",
    "env.close()"
   ],
   "outputs": [
    {
     "output_type": "stream",
     "name": "stdout",
     "text": [
      "obs: 15, rew: 0.0, term: False, trunc: False\n",
      "obs: 15, rew: 0.0, term: False, trunc: False\n",
      "obs: 15, rew: 0.0, term: False, trunc: False\n",
      "obs: 15, rew: 0.0, term: False, trunc: False\n",
      "obs: 15, rew: 0.0, term: False, trunc: False\n",
      "obs: 15, rew: 1.0, term: True, trunc: False\n",
      "'Yo win! :)'\n"
     ]
    }
   ],
   "metadata": {}
  },
  {
   "cell_type": "code",
   "execution_count": null,
   "source": [],
   "outputs": [],
   "metadata": {}
  }
 ],
 "metadata": {
  "orig_nbformat": 4,
  "language_info": {
   "name": "python",
   "version": "3.11.2",
   "mimetype": "text/x-python",
   "codemirror_mode": {
    "name": "ipython",
    "version": 3
   },
   "pygments_lexer": "ipython3",
   "nbconvert_exporter": "python",
   "file_extension": ".py"
  },
  "kernelspec": {
   "name": "python3",
   "display_name": "Python 3.11.2 64-bit ('rl-env': venv)"
  },
  "interpreter": {
   "hash": "31a89f98e54744fb9eb4f21d05f601f33e20f80b335e97efaae35ceaee0d65e1"
  }
 },
 "nbformat": 4,
 "nbformat_minor": 2
}